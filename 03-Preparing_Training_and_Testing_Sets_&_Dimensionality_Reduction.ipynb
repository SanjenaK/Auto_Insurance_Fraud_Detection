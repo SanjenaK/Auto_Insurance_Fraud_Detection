{
 "cells": [
  {
   "cell_type": "markdown",
   "metadata": {},
   "source": [
    "# <font color='black'> Auto Insurance Fraud Detection</font>"
   ]
  },
  {
   "cell_type": "markdown",
   "metadata": {},
   "source": [
    "## Table of Contents\n",
    "    \n",
    "4. [Splitting Data into Training and Test Sets](#d_ID)\n",
    "\n",
    "    4.1 [Feature Scaling](#d1_ID)\n",
    "    \n",
    "    4.2 [Oversampling using SMOTE](#d2_ID)\n",
    "\n",
    "5. [Dimensionality Reduction](#e_ID)\n",
    "\n",
    "    5.1 [Recursive Feature Elimination (RFE)](#e1_ID)\n",
    "    \n",
    "    5.2 [Principal Component Analysis (PCA)](#e2_ID)"
   ]
  },
  {
   "cell_type": "markdown",
   "metadata": {},
   "source": [
    "### Import libraries"
   ]
  },
  {
   "cell_type": "code",
   "execution_count": 1,
   "metadata": {},
   "outputs": [],
   "source": [
    "import numpy as np\n",
    "import pandas as pd\n",
    "import matplotlib.pyplot as plt\n",
    "import seaborn as sns\n",
    "%matplotlib inline"
   ]
  },
  {
   "cell_type": "markdown",
   "metadata": {},
   "source": [
    "## <a id='d_ID'> 4. Splitting Data into Training and Test Sets </a>\n",
    "\n",
    "The data was prepared for training and evaluating the classification models using the data frame with the factorized categorical variables.  All the independent variables were separated ('X') from the target class variable, 'fraud_reported' ('y').  The 'X' and 'y' sets were then split into training and test sets in order to use the training set for dimensionality reduction and building classification models and use the test set to evaluate the models."
   ]
  },
  {
   "cell_type": "code",
   "execution_count": 30,
   "metadata": {},
   "outputs": [],
   "source": [
    "# Separate the independent variables and the target class variable\n",
    "insurance_claims_fct_X = insurance_claims_fct.drop('fraud_reported', axis=1)\n",
    "X = insurance_claims_fct_X\n",
    "y = insurance_claims_fct['fraud_reported']\n",
    "y.replace('N', 0, inplace=True)\n",
    "y.replace('Y', 1, inplace=True)"
   ]
  },
  {
   "cell_type": "code",
   "execution_count": 31,
   "metadata": {},
   "outputs": [
    {
     "name": "stdout",
     "output_type": "stream",
     "text": [
      "1000\n",
      "1000\n"
     ]
    }
   ],
   "source": [
    "print(len(X))\n",
    "print(len(y))"
   ]
  },
  {
   "cell_type": "code",
   "execution_count": 32,
   "metadata": {},
   "outputs": [
    {
     "data": {
      "text/html": [
       "<div>\n",
       "<style scoped>\n",
       "    .dataframe tbody tr th:only-of-type {\n",
       "        vertical-align: middle;\n",
       "    }\n",
       "\n",
       "    .dataframe tbody tr th {\n",
       "        vertical-align: top;\n",
       "    }\n",
       "\n",
       "    .dataframe thead th {\n",
       "        text-align: right;\n",
       "    }\n",
       "</style>\n",
       "<table border=\"1\" class=\"dataframe\">\n",
       "  <thead>\n",
       "    <tr style=\"text-align: right;\">\n",
       "      <th></th>\n",
       "      <th>months_as_customer</th>\n",
       "      <th>age</th>\n",
       "      <th>policy_state</th>\n",
       "      <th>policy_csl</th>\n",
       "      <th>policy_deductable</th>\n",
       "      <th>policy_annual_premium</th>\n",
       "      <th>umbrella_limit</th>\n",
       "      <th>insured_zip</th>\n",
       "      <th>insured_sex</th>\n",
       "      <th>insured_education_level</th>\n",
       "      <th>...</th>\n",
       "      <th>property_claim</th>\n",
       "      <th>vehicle_claim</th>\n",
       "      <th>auto_make</th>\n",
       "      <th>auto_model</th>\n",
       "      <th>auto_year</th>\n",
       "      <th>policy_bind_year</th>\n",
       "      <th>policy_bind_month</th>\n",
       "      <th>policy_bind_day</th>\n",
       "      <th>incident_month</th>\n",
       "      <th>incident_day</th>\n",
       "    </tr>\n",
       "  </thead>\n",
       "  <tbody>\n",
       "    <tr>\n",
       "      <th>0</th>\n",
       "      <td>328</td>\n",
       "      <td>48</td>\n",
       "      <td>3</td>\n",
       "      <td>2</td>\n",
       "      <td>1000</td>\n",
       "      <td>1406.91</td>\n",
       "      <td>0</td>\n",
       "      <td>466132</td>\n",
       "      <td>2</td>\n",
       "      <td>5</td>\n",
       "      <td>...</td>\n",
       "      <td>13020</td>\n",
       "      <td>52080</td>\n",
       "      <td>11</td>\n",
       "      <td>2</td>\n",
       "      <td>2004</td>\n",
       "      <td>2014</td>\n",
       "      <td>10</td>\n",
       "      <td>17</td>\n",
       "      <td>1</td>\n",
       "      <td>25</td>\n",
       "    </tr>\n",
       "    <tr>\n",
       "      <th>1</th>\n",
       "      <td>228</td>\n",
       "      <td>42</td>\n",
       "      <td>2</td>\n",
       "      <td>2</td>\n",
       "      <td>2000</td>\n",
       "      <td>1197.22</td>\n",
       "      <td>5000000</td>\n",
       "      <td>468176</td>\n",
       "      <td>2</td>\n",
       "      <td>5</td>\n",
       "      <td>...</td>\n",
       "      <td>780</td>\n",
       "      <td>3510</td>\n",
       "      <td>9</td>\n",
       "      <td>13</td>\n",
       "      <td>2007</td>\n",
       "      <td>2006</td>\n",
       "      <td>6</td>\n",
       "      <td>27</td>\n",
       "      <td>1</td>\n",
       "      <td>21</td>\n",
       "    </tr>\n",
       "    <tr>\n",
       "      <th>2</th>\n",
       "      <td>134</td>\n",
       "      <td>29</td>\n",
       "      <td>3</td>\n",
       "      <td>1</td>\n",
       "      <td>2000</td>\n",
       "      <td>1413.14</td>\n",
       "      <td>5000000</td>\n",
       "      <td>430632</td>\n",
       "      <td>1</td>\n",
       "      <td>7</td>\n",
       "      <td>...</td>\n",
       "      <td>3850</td>\n",
       "      <td>23100</td>\n",
       "      <td>5</td>\n",
       "      <td>31</td>\n",
       "      <td>2007</td>\n",
       "      <td>2000</td>\n",
       "      <td>9</td>\n",
       "      <td>6</td>\n",
       "      <td>2</td>\n",
       "      <td>22</td>\n",
       "    </tr>\n",
       "    <tr>\n",
       "      <th>3</th>\n",
       "      <td>256</td>\n",
       "      <td>41</td>\n",
       "      <td>1</td>\n",
       "      <td>2</td>\n",
       "      <td>2000</td>\n",
       "      <td>1415.74</td>\n",
       "      <td>6000000</td>\n",
       "      <td>608117</td>\n",
       "      <td>1</td>\n",
       "      <td>7</td>\n",
       "      <td>...</td>\n",
       "      <td>6340</td>\n",
       "      <td>50720</td>\n",
       "      <td>4</td>\n",
       "      <td>35</td>\n",
       "      <td>2014</td>\n",
       "      <td>1990</td>\n",
       "      <td>5</td>\n",
       "      <td>25</td>\n",
       "      <td>1</td>\n",
       "      <td>10</td>\n",
       "    </tr>\n",
       "    <tr>\n",
       "      <th>4</th>\n",
       "      <td>228</td>\n",
       "      <td>44</td>\n",
       "      <td>1</td>\n",
       "      <td>3</td>\n",
       "      <td>1000</td>\n",
       "      <td>1583.91</td>\n",
       "      <td>6000000</td>\n",
       "      <td>610706</td>\n",
       "      <td>2</td>\n",
       "      <td>1</td>\n",
       "      <td>...</td>\n",
       "      <td>650</td>\n",
       "      <td>4550</td>\n",
       "      <td>1</td>\n",
       "      <td>32</td>\n",
       "      <td>2009</td>\n",
       "      <td>2014</td>\n",
       "      <td>6</td>\n",
       "      <td>6</td>\n",
       "      <td>2</td>\n",
       "      <td>17</td>\n",
       "    </tr>\n",
       "  </tbody>\n",
       "</table>\n",
       "<p>5 rows × 39 columns</p>\n",
       "</div>"
      ],
      "text/plain": [
       "   months_as_customer  age  policy_state  policy_csl  policy_deductable  \\\n",
       "0                 328   48             3           2               1000   \n",
       "1                 228   42             2           2               2000   \n",
       "2                 134   29             3           1               2000   \n",
       "3                 256   41             1           2               2000   \n",
       "4                 228   44             1           3               1000   \n",
       "\n",
       "   policy_annual_premium  umbrella_limit  insured_zip  insured_sex  \\\n",
       "0                1406.91               0       466132            2   \n",
       "1                1197.22         5000000       468176            2   \n",
       "2                1413.14         5000000       430632            1   \n",
       "3                1415.74         6000000       608117            1   \n",
       "4                1583.91         6000000       610706            2   \n",
       "\n",
       "   insured_education_level  ...  property_claim  vehicle_claim  auto_make  \\\n",
       "0                        5  ...           13020          52080         11   \n",
       "1                        5  ...             780           3510          9   \n",
       "2                        7  ...            3850          23100          5   \n",
       "3                        7  ...            6340          50720          4   \n",
       "4                        1  ...             650           4550          1   \n",
       "\n",
       "   auto_model  auto_year  policy_bind_year  policy_bind_month  \\\n",
       "0           2       2004              2014                 10   \n",
       "1          13       2007              2006                  6   \n",
       "2          31       2007              2000                  9   \n",
       "3          35       2014              1990                  5   \n",
       "4          32       2009              2014                  6   \n",
       "\n",
       "   policy_bind_day  incident_month  incident_day  \n",
       "0               17               1            25  \n",
       "1               27               1            21  \n",
       "2                6               2            22  \n",
       "3               25               1            10  \n",
       "4                6               2            17  \n",
       "\n",
       "[5 rows x 39 columns]"
      ]
     },
     "execution_count": 32,
     "metadata": {},
     "output_type": "execute_result"
    }
   ],
   "source": [
    "X[0:5]"
   ]
  },
  {
   "cell_type": "code",
   "execution_count": 33,
   "metadata": {},
   "outputs": [
    {
     "data": {
      "text/plain": [
       "0    1\n",
       "1    1\n",
       "2    0\n",
       "3    1\n",
       "4    0\n",
       "Name: fraud_reported, dtype: int64"
      ]
     },
     "execution_count": 33,
     "metadata": {},
     "output_type": "execute_result"
    }
   ],
   "source": [
    "y[0:5]"
   ]
  },
  {
   "cell_type": "code",
   "execution_count": 34,
   "metadata": {},
   "outputs": [],
   "source": [
    "# Splitting data into training and test sets\n",
    "from sklearn.model_selection import train_test_split"
   ]
  },
  {
   "cell_type": "code",
   "execution_count": 35,
   "metadata": {},
   "outputs": [],
   "source": [
    "X_train, X_test, y_train, y_test = train_test_split(X, y, test_size=0.3, random_state=0)"
   ]
  },
  {
   "cell_type": "code",
   "execution_count": 36,
   "metadata": {},
   "outputs": [
    {
     "name": "stdout",
     "output_type": "stream",
     "text": [
      "(700, 39)\n",
      "(700,)\n",
      "(300, 39)\n",
      "(300,)\n"
     ]
    }
   ],
   "source": [
    "print(X_train.shape)\n",
    "print(y_train.shape)\n",
    "print(X_test.shape)\n",
    "print(y_test.shape)"
   ]
  },
  {
   "cell_type": "markdown",
   "metadata": {},
   "source": [
    "There are 39 independent variables and a 'fraud_reported' class variable, 700 records in the training set and 300 records in the test set."
   ]
  },
  {
   "cell_type": "markdown",
   "metadata": {},
   "source": [
    "### <a id='d1_ID'> 4.1 Feature Scaling </a>"
   ]
  },
  {
   "cell_type": "markdown",
   "metadata": {},
   "source": [
    "The independent features were scaled to reduce the impact of large-valued features on the prediction models for the 'fraud_reported' class by scaling the features to have the same scale."
   ]
  },
  {
   "cell_type": "code",
   "execution_count": 37,
   "metadata": {},
   "outputs": [],
   "source": [
    "from sklearn.preprocessing import StandardScaler"
   ]
  },
  {
   "cell_type": "code",
   "execution_count": 38,
   "metadata": {},
   "outputs": [],
   "source": [
    "## Scaling independent variables\n",
    "sc_X = StandardScaler()"
   ]
  },
  {
   "cell_type": "code",
   "execution_count": 39,
   "metadata": {},
   "outputs": [],
   "source": [
    "X_train_sc = sc_X.fit_transform(X_train)\n",
    "X_test_sc = sc_X.transform(X_test)"
   ]
  },
  {
   "cell_type": "code",
   "execution_count": 40,
   "metadata": {},
   "outputs": [
    {
     "name": "stdout",
     "output_type": "stream",
     "text": [
      "[[ 0.77350548  1.06607944 -1.22267102 -1.19814909 -1.01266046 -0.46736553\n",
      "  -0.49454026 -0.68942099  1.09286658 -0.96562008  0.58740782  0.20361501\n",
      "  -1.39672043  0.32141759  0.0957192   1.68615426 -1.56955225 -0.2059438\n",
      "  -0.10425505  1.29013019 -0.90692992 -1.12031252 -0.82429719  1.26802331\n",
      "   0.02790558  1.3282034   1.31045515 -1.86138852 -1.43059645 -1.45920581\n",
      "  -1.85483204  0.37537666 -0.62149875 -0.52991622 -1.35160082 -0.14673709\n",
      "  -0.27642775 -0.95174376 -1.61859033]\n",
      " [-0.67064814 -0.99210848  1.20532817 -1.19814909 -0.19505686 -0.79323529\n",
      "  -0.49454026 -0.31551996  1.09286658  0.56595255 -0.15036516  0.38067154\n",
      "   0.36174054  0.64172682 -1.37723158  0.76187236 -0.62889594 -1.25821138\n",
      "  -1.41918355  1.29013019  0.54029867 -0.54986788 -0.82429719  0.04877013\n",
      "  -1.19296358  1.3282034   0.05040212  0.5793564   1.03006043 -0.26500563\n",
      "   0.60996641 -1.37972413 -1.24021957 -1.3527675  -1.0790614  -1.29120468\n",
      "  -0.50434227 -0.95174376 -0.57732421]\n",
      " [ 0.96375326  0.7411024  -0.00867143  0.05364847 -0.19505686 -0.9902832\n",
      "  -0.49454026 -0.44684327  1.09286658  0.56595255  1.07925648  1.62006726\n",
      "  -0.22441311  0.65596278  0.94996035  0.76187236 -0.62889594 -1.25821138\n",
      "  -0.7617193   1.29013019 -1.38933945  0.87624371 -0.82429719  0.04877013\n",
      "   1.24877474 -0.45461996  0.05040212  1.95082621  2.3774652   2.39131094\n",
      "   1.49714536  0.37537666  0.43916551 -1.02362699 -0.39771287  0.1393798\n",
      "   0.74918759 -0.95174376  1.27381555]\n",
      " [-0.8868388  -0.66713144 -0.00867143 -1.19814909 -0.19505686 -1.16439969\n",
      "   2.10504558  1.57198324  1.09286658  0.56595255 -1.3799868  -0.32755458\n",
      "   0.36174054 -0.89931644  0.94996035  0.76187236  0.31176038 -0.2059438\n",
      "  -1.41918355 -1.04706218 -0.90692992  1.30407719 -0.82429719  0.04877013\n",
      "   0.02790558 -1.34603164  1.31045515  0.89827634  1.10400338 -0.22762197\n",
      "   1.02624583 -0.87826676  0.5275542  -0.52991622 -1.21533111 -1.57732158\n",
      "   0.74918759 -0.95174376  0.69533437]\n",
      " [-0.51499086 -0.77545712  1.20532817 -1.19814909  1.44015034  0.07978234\n",
      "  -0.49454026 -0.97285918  1.09286658 -1.47614429  0.34148349  1.08889767\n",
      "   0.36174054 -0.89931644  0.94996035  0.76187236  0.31176038 -1.25821138\n",
      "  -0.7617193  -1.51450065  1.02270821  0.02057675 -0.82429719 -1.17048305\n",
      "  -1.19296358  1.3282034  -1.2096509   0.25283407 -0.16124257 -0.17570022\n",
      "   0.4392123  -0.12608071 -0.97505351 -1.68190801 -1.21533111  1.56996428\n",
      "  -1.07412858  0.96268334 -0.69302045]]\n"
     ]
    }
   ],
   "source": [
    "print(X_train_sc[0:5])"
   ]
  },
  {
   "cell_type": "code",
   "execution_count": 41,
   "metadata": {},
   "outputs": [
    {
     "name": "stdout",
     "output_type": "stream",
     "text": [
      "[[-0.70523864 -1.20875984  1.20532817  0.05364847 -0.19505686 -0.0877997\n",
      "  -0.49454026 -0.80206523  1.09286658  0.56595255 -0.88813814 -1.03578071\n",
      "  -1.39672043 -0.89931644 -0.17848166 -1.08669143  1.25241669  0.84632378\n",
      "   0.55320921 -0.57962371 -0.42452039  1.16146603  1.13498306 -1.17048305\n",
      "  -1.19296358 -0.45461996 -1.2096509   0.26271716 -0.29269669 -0.3086199\n",
      "   0.5208773   1.62902008  0.79272027  1.11578633 -0.12517346  1.56996428\n",
      "  -0.84621405  0.96268334  0.23254943]\n",
      " [-0.65335288 -0.99210848 -1.22267102  1.30544602  1.44015034 -0.25720815\n",
      "  -0.49454026 -0.55460926  1.09286658  1.58700098 -0.88813814 -1.21283724\n",
      "   0.36174054 -0.89931644 -0.48432108 -1.08669143  1.25241669  0.84632378\n",
      "   0.55320921  0.35525324 -0.90692992  0.59102139  1.13498306  0.04877013\n",
      "   1.24877474  1.3282034  -1.2096509  -0.16491686  0.29884687 -0.63468847\n",
      "  -0.14516978  1.12756271  0.17399945 -0.03620546  1.37379331  0.4254967\n",
      "   1.20501663  0.96268334 -1.5028941 ]\n",
      " [-0.09990479 -0.45048008 -1.22267102  1.30544602 -1.01266046  0.64722351\n",
      "  -0.49454026 -0.82858283 -0.91502478  0.56595255 -1.62591112 -0.15049805\n",
      "  -0.81056677 -0.89931644  0.94996035 -0.16240953 -1.56955225 -0.2059438\n",
      "  -0.10425505  1.29013019  0.05788914 -0.69247904 -0.82429719  1.26802331\n",
      "   0.02790558 -1.34603164 -1.2096509  -1.79980922 -1.30735821 -1.44674459\n",
      "  -1.80392398  0.62610534  0.88110896 -0.36534597  1.37379331 -1.00508778\n",
      "  -0.16247049  0.96268334  1.27381555]\n",
      " [ 1.92363979  1.49938216 -1.22267102 -1.19814909 -0.19505686  0.97272799\n",
      "  -0.49454026  1.60671463 -0.91502478 -0.45509587  1.3251808  -1.03578071\n",
      "   0.9478942  -0.89931644  0.94996035 -0.16240953 -1.56955225  1.89859136\n",
      "   1.21067346 -1.51450065  1.50511774 -0.40725672 -0.82429719  1.26802331\n",
      "   1.24877474  0.43679172  0.05040212 -1.76217743 -1.39978689 -1.29720996\n",
      "  -1.76574294 -0.12608071 -0.97505351  1.28035658  1.64633272 -0.43285399\n",
      "  -1.07412858  0.96268334  0.1168532 ]\n",
      " [-1.25003911 -1.53373688 -0.00867143 -1.19814909  1.44015034 -1.09061326\n",
      "  -0.49454026 -0.56563047 -0.91502478  1.07647677  0.09555917 -0.50461111\n",
      "  -0.81056677 -0.89931644  0.94996035 -1.08669143  0.31176038 -0.2059438\n",
      "  -1.41918355  1.29013019  0.05788914 -1.548146    1.13498306  1.26802331\n",
      "   0.02790558 -1.34603164  0.05040212 -0.79705496 -0.69938289 -0.71984013\n",
      "  -0.74758179 -0.62753808  0.96949765 -0.85905673 -0.53398258 -1.57732158\n",
      "   1.54688841  0.96268334 -1.15580539]]\n"
     ]
    }
   ],
   "source": [
    "print(X_test_sc[0:5])"
   ]
  },
  {
   "cell_type": "markdown",
   "metadata": {},
   "source": [
    "### <a id='d2_ID'> 4.2 Oversampling using SMOTE </a>"
   ]
  },
  {
   "cell_type": "markdown",
   "metadata": {},
   "source": [
    "Because the class attribute is unbalanced, SMOTE is applied in order to better predict Fraud Reported = 'Y' class. SMOTE from imblearn oversamples the minority 'Y' class."
   ]
  },
  {
   "cell_type": "code",
   "execution_count": 42,
   "metadata": {},
   "outputs": [
    {
     "name": "stdout",
     "output_type": "stream",
     "text": [
      "(700, 39)\n",
      "(700,)\n"
     ]
    }
   ],
   "source": [
    "print(X_train_sc.shape)\n",
    "print(y_train.shape)"
   ]
  },
  {
   "cell_type": "code",
   "execution_count": 43,
   "metadata": {},
   "outputs": [
    {
     "name": "stdout",
     "output_type": "stream",
     "text": [
      "530\n",
      "170\n"
     ]
    }
   ],
   "source": [
    "print(len(y_train[y_train==0]))\n",
    "print(len(y_train[y_train==1]))"
   ]
  },
  {
   "cell_type": "code",
   "execution_count": 44,
   "metadata": {},
   "outputs": [
    {
     "data": {
      "text/plain": [
       "0.32075471698113206"
      ]
     },
     "execution_count": 44,
     "metadata": {},
     "output_type": "execute_result"
    }
   ],
   "source": [
    "# Ratio of 'fraud_reported' as 'Yes' to 'No'\n",
    "len(y_train[y_train==1])/ len(y_train[y_train==0])"
   ]
  },
  {
   "cell_type": "code",
   "execution_count": 45,
   "metadata": {},
   "outputs": [],
   "source": [
    "from imblearn.over_sampling import SMOTE"
   ]
  },
  {
   "cell_type": "code",
   "execution_count": 46,
   "metadata": {},
   "outputs": [],
   "source": [
    "smote = SMOTE(random_state=1) # default k_neighbors = 5"
   ]
  },
  {
   "cell_type": "code",
   "execution_count": 47,
   "metadata": {},
   "outputs": [],
   "source": [
    "X_train_sc_smote, y_train_smote = smote.fit_sample(X_train_sc, y_train)"
   ]
  },
  {
   "cell_type": "code",
   "execution_count": 48,
   "metadata": {},
   "outputs": [
    {
     "name": "stdout",
     "output_type": "stream",
     "text": [
      "530\n",
      "170\n"
     ]
    }
   ],
   "source": [
    "# Number of records by class before SMOTE was applied\n",
    "print(len(y_train[y_train==0]))\n",
    "print(len(y_train[y_train==1]))"
   ]
  },
  {
   "cell_type": "code",
   "execution_count": 49,
   "metadata": {},
   "outputs": [
    {
     "name": "stdout",
     "output_type": "stream",
     "text": [
      "530\n",
      "530\n"
     ]
    }
   ],
   "source": [
    "# Number of records by class after SMOTE was applied\n",
    "print(len(y_train_smote[y_train_smote==0]))\n",
    "print(len(y_train_smote[y_train_smote==1]))"
   ]
  },
  {
   "cell_type": "markdown",
   "metadata": {},
   "source": [
    "## <a id='e_ID'> 5. Dimensionality Reduction </a>"
   ]
  },
  {
   "cell_type": "markdown",
   "metadata": {},
   "source": [
    "### <a id='e1_ID'> 5.1 Recursive Feature Elimination (RFE) </a> \n",
    "\n",
    "For Feature Selection, Recursive Feature Elimination (RFE) was used.  First, the optimal number of features was found using the RFECV function with stratified 10-fold cross-validation using 'roc_auc' scores,  the logistic regression algorithm, and the X scaled and Y training sets (with SMOTE applied).  The logistic regression algorithm was chosen over support vector machine and random forest classification algorithms because of its efficiency.  The 'roc_auc' showed better results for number of selected features than 'accuracy' and 'f1' for the auto insurance claims dataset and was used.  The scaled X and y training sets with SMOTE applied also resulted in better number of selected features. "
   ]
  },
  {
   "cell_type": "code",
   "execution_count": 50,
   "metadata": {},
   "outputs": [],
   "source": [
    "from sklearn.model_selection import StratifiedKFold\n",
    "from sklearn.feature_selection import RFECV\n",
    "from sklearn.linear_model import LogisticRegression"
   ]
  },
  {
   "cell_type": "code",
   "execution_count": 51,
   "metadata": {},
   "outputs": [],
   "source": [
    "# Find optimal number of features to select for dataset\n",
    "logit = LogisticRegression(multi_class='ovr', solver='lbfgs')\n",
    "rfecv = RFECV(estimator=logit, step=1, cv=StratifiedKFold(10), scoring='roc_auc')"
   ]
  },
  {
   "cell_type": "code",
   "execution_count": 52,
   "metadata": {},
   "outputs": [
    {
     "data": {
      "text/plain": [
       "RFECV(cv=StratifiedKFold(n_splits=10, random_state=None, shuffle=False),\n",
       "   estimator=LogisticRegression(C=1.0, class_weight=None, dual=False, fit_intercept=True,\n",
       "          intercept_scaling=1, max_iter=100, multi_class='ovr', n_jobs=1,\n",
       "          penalty='l2', random_state=None, solver='lbfgs', tol=0.0001,\n",
       "          verbose=0, warm_start=False),\n",
       "   n_jobs=1, scoring='roc_auc', step=1, verbose=0)"
      ]
     },
     "execution_count": 52,
     "metadata": {},
     "output_type": "execute_result"
    }
   ],
   "source": [
    "rfecv.fit(X_train_sc_smote, y_train_smote)"
   ]
  },
  {
   "cell_type": "code",
   "execution_count": 53,
   "metadata": {},
   "outputs": [
    {
     "name": "stdout",
     "output_type": "stream",
     "text": [
      "Optimal number of features : 13\n"
     ]
    },
    {
     "data": {
      "image/png": "[encoded data removed]",
      "text/plain": [
       "<Figure size 432x288 with 1 Axes>"
      ]
     },
     "metadata": {
      "needs_background": "light"
     },
     "output_type": "display_data"
    }
   ],
   "source": [
    "print(f\"Optimal number of features : {rfecv.n_features_}\")\n",
    "\n",
    "# Plotting the number of features vs. cross-validation scores\n",
    "plt.figure()\n",
    "plt.xlabel(\"Number of features selected\")\n",
    "plt.ylabel(\"Cross-validation AUC score\")\n",
    "plt.plot(range(1, len(rfecv.grid_scores_) + 1), rfecv.grid_scores_)\n",
    "plt.show()"
   ]
  },
  {
   "cell_type": "code",
   "execution_count": 54,
   "metadata": {},
   "outputs": [
    {
     "data": {
      "text/plain": [
       "array([0.77100392, 0.77146671, 0.7751513 , 0.77242791, 0.77326451,\n",
       "       0.77842649, 0.78091848, 0.77682449, 0.77903168, 0.77970808,\n",
       "       0.77935208, 0.78063368, 0.78227127, 0.78009968, 0.77924528,\n",
       "       0.77803489, 0.77643289, 0.77636169, 0.77881808, 0.77799929,\n",
       "       0.77960128, 0.77928088, 0.77920968, 0.77807049, 0.7756141 ,\n",
       "       0.7759701 , 0.7742969 , 0.77369171, 0.7749377 , 0.7750445 ,\n",
       "       0.7757565 , 0.7754361 , 0.7751869 , 0.7761125 , 0.7757209 ,\n",
       "       0.7754717 , 0.7760057 , 0.7755429 , 0.7753649 ])"
      ]
     },
     "execution_count": 54,
     "metadata": {},
     "output_type": "execute_result"
    }
   ],
   "source": [
    "rfecv.grid_scores_"
   ]
  },
  {
   "cell_type": "code",
   "execution_count": 55,
   "metadata": {},
   "outputs": [],
   "source": [
    "# Making a dataframe with selected features\n",
    "X_train_rfe = rfecv.transform(X_train_sc_smote)"
   ]
  },
  {
   "cell_type": "code",
   "execution_count": 56,
   "metadata": {},
   "outputs": [
    {
     "data": {
      "text/plain": [
       "(1060, 13)"
      ]
     },
     "execution_count": 56,
     "metadata": {},
     "output_type": "execute_result"
    }
   ],
   "source": [
    "X_train_rfe.shape"
   ]
  },
  {
   "cell_type": "code",
   "execution_count": 57,
   "metadata": {},
   "outputs": [
    {
     "data": {
      "text/plain": [
       "13"
      ]
     },
     "execution_count": 57,
     "metadata": {},
     "output_type": "execute_result"
    }
   ],
   "source": [
    "rfecv.n_features_"
   ]
  },
  {
   "cell_type": "code",
   "execution_count": 58,
   "metadata": {},
   "outputs": [
    {
     "data": {
      "text/plain": [
       "array([ True,  True,  True, False, False, False,  True, False,  True,\n",
       "       False, False,  True,  True, False, False,  True, False,  True,\n",
       "       False, False,  True, False,  True, False, False, False, False,\n",
       "       False,  True, False,  True, False, False, False, False, False,\n",
       "       False, False, False])"
      ]
     },
     "execution_count": 58,
     "metadata": {},
     "output_type": "execute_result"
    }
   ],
   "source": [
    "rfecv.support_"
   ]
  },
  {
   "cell_type": "code",
   "execution_count": 59,
   "metadata": {},
   "outputs": [
    {
     "data": {
      "text/plain": [
       "array([ 1,  1,  1,  3, 16, 19,  1,  6,  1, 26,  8,  1,  1, 15, 11,  1, 25,\n",
       "        1, 23, 21,  1,  7,  1, 24,  9,  5, 27, 17,  1, 18,  1, 13, 12,  4,\n",
       "       20,  2, 10, 22, 14])"
      ]
     },
     "execution_count": 59,
     "metadata": {},
     "output_type": "execute_result"
    }
   ],
   "source": [
    "rfecv.ranking_"
   ]
  },
  {
   "cell_type": "code",
   "execution_count": 60,
   "metadata": {},
   "outputs": [
    {
     "data": {
      "text/plain": [
       "Index(['months_as_customer', 'age', 'policy_state', 'umbrella_limit',\n",
       "       'insured_sex', 'insured_hobbies', 'insured_relationship',\n",
       "       'incident_type', 'incident_severity', 'incident_city',\n",
       "       'number_of_vehicles_involved', 'injury_claim', 'vehicle_claim'],\n",
       "      dtype='object')"
      ]
     },
     "execution_count": 60,
     "metadata": {},
     "output_type": "execute_result"
    }
   ],
   "source": [
    "X_train.columns[list(rfecv.support_)]"
   ]
  },
  {
   "cell_type": "code",
   "execution_count": 61,
   "metadata": {},
   "outputs": [],
   "source": [
    "# For test set with selected features\n",
    "X_test_rfe = rfecv.transform(X_test_sc)"
   ]
  },
  {
   "cell_type": "code",
   "execution_count": 62,
   "metadata": {},
   "outputs": [
    {
     "data": {
      "text/plain": [
       "(300, 13)"
      ]
     },
     "execution_count": 62,
     "metadata": {},
     "output_type": "execute_result"
    }
   ],
   "source": [
    "X_test_rfe.shape"
   ]
  },
  {
   "cell_type": "markdown",
   "metadata": {},
   "source": [
    "The cross-validation scores for the optimal number of features to choose was 13 with the highest AUC score of 0.7883. Therefore, the 13 of 39 selected features were: 'months_as_customer', 'age', 'policy_state', 'umbrella_limit', 'insured_sex', 'insured_hobbies', 'insured_relationship', 'incident_type', 'incident_severity', 'incident_city', 'number_of_vehicles_involved', 'injury_claim', and 'vehicle_claim'."
   ]
  },
  {
   "cell_type": "markdown",
   "metadata": {},
   "source": [
    "### <a id='e2_ID'> 5.2 Principal Component Analysis (PCA) </a> \n",
    "\n",
    "For Feature Extraction, Principal Component Analysis (PCA) is a linear diminsionality reduction method using singular value decompostion to reduce the feature dimensional space. "
   ]
  },
  {
   "cell_type": "code",
   "execution_count": 63,
   "metadata": {},
   "outputs": [],
   "source": [
    "from sklearn import decomposition"
   ]
  },
  {
   "cell_type": "markdown",
   "metadata": {},
   "source": [
    "#### Using 10 number of principal components"
   ]
  },
  {
   "cell_type": "code",
   "execution_count": 64,
   "metadata": {},
   "outputs": [],
   "source": [
    "np.random.seed(5)"
   ]
  },
  {
   "cell_type": "code",
   "execution_count": 65,
   "metadata": {},
   "outputs": [],
   "source": [
    "pca = decomposition.PCA(n_components=10)"
   ]
  },
  {
   "cell_type": "code",
   "execution_count": 66,
   "metadata": {},
   "outputs": [
    {
     "data": {
      "text/plain": [
       "PCA(copy=True, iterated_power='auto', n_components=10, random_state=None,\n",
       "  svd_solver='auto', tol=0.0, whiten=False)"
      ]
     },
     "execution_count": 66,
     "metadata": {},
     "output_type": "execute_result"
    }
   ],
   "source": [
    "pca.fit(X_train_sc_smote)"
   ]
  },
  {
   "cell_type": "code",
   "execution_count": 67,
   "metadata": {},
   "outputs": [],
   "source": [
    "# For training set\n",
    "X_train_pca = pca.transform(X_train_sc_smote)"
   ]
  },
  {
   "cell_type": "code",
   "execution_count": 68,
   "metadata": {},
   "outputs": [
    {
     "data": {
      "text/plain": [
       "array([[ 3.96334429,  1.49334204,  0.62101244, ...,  1.54193602,\n",
       "         1.62799863, -0.24855763],\n",
       "       [-0.38520305, -0.27075275,  1.90716189, ..., -0.0748823 ,\n",
       "         1.75056054,  0.537088  ],\n",
       "       [-3.15485298,  1.12879752,  2.12115797, ...,  1.04169216,\n",
       "         0.87298751,  0.0293925 ],\n",
       "       ...,\n",
       "       [-0.51865927, -0.00735998,  1.9005417 , ...,  0.79047182,\n",
       "        -0.60650365,  0.21314315],\n",
       "       [-1.35747555,  1.24071643, -0.91722683, ...,  1.21227916,\n",
       "         1.15988093, -1.63369523],\n",
       "       [ 2.77247295,  3.05343554, -0.63048587, ..., -0.23652585,\n",
       "         0.02805231,  0.52169372]])"
      ]
     },
     "execution_count": 68,
     "metadata": {},
     "output_type": "execute_result"
    }
   ],
   "source": [
    "X_train_pca"
   ]
  },
  {
   "cell_type": "code",
   "execution_count": 69,
   "metadata": {},
   "outputs": [
    {
     "data": {
      "text/plain": [
       "(1060, 10)"
      ]
     },
     "execution_count": 69,
     "metadata": {},
     "output_type": "execute_result"
    }
   ],
   "source": [
    "X_train_pca.shape"
   ]
  },
  {
   "cell_type": "code",
   "execution_count": 70,
   "metadata": {},
   "outputs": [
    {
     "data": {
      "text/plain": [
       "array([0.10123595, 0.05665047, 0.0482321 , 0.04131329, 0.03689522,\n",
       "       0.03546767, 0.03469894, 0.03370446, 0.03247234, 0.03135181])"
      ]
     },
     "execution_count": 70,
     "metadata": {},
     "output_type": "execute_result"
    }
   ],
   "source": [
    "# Variance explained by the principal components\n",
    "pca.explained_variance_ratio_"
   ]
  },
  {
   "cell_type": "code",
   "execution_count": 71,
   "metadata": {},
   "outputs": [
    {
     "data": {
      "text/plain": [
       "array([10.12, 15.79, 20.61, 24.74, 28.43, 31.98, 35.45, 38.82, 42.07,\n",
       "       45.21])"
      ]
     },
     "execution_count": 71,
     "metadata": {},
     "output_type": "execute_result"
    }
   ],
   "source": [
    "# Culmulative Variance Explained\n",
    "var_Data = pca.explained_variance_ratio_\n",
    "cum_var_Data = np.cumsum(np.round(pca.explained_variance_ratio_, decimals=4)*100)\n",
    "cum_var_Data"
   ]
  },
  {
   "cell_type": "code",
   "execution_count": 72,
   "metadata": {},
   "outputs": [
    {
     "data": {
      "image/png": "[encoded data removed]",
      "text/plain": [
       "<Figure size 432x288 with 1 Axes>"
      ]
     },
     "metadata": {
      "needs_background": "light"
     },
     "output_type": "display_data"
    }
   ],
   "source": [
    "plt.plot(cum_var_Data)\n",
    "plt.ylabel('Cumulative Variance (%)')\n",
    "plt.xlabel('Number of Principal Components')\n",
    "plt.show()"
   ]
  },
  {
   "cell_type": "markdown",
   "metadata": {},
   "source": [
    "Because 10 prinicipal components captured less than 50% of the variance, finding 20 principal components was tried. "
   ]
  },
  {
   "cell_type": "markdown",
   "metadata": {},
   "source": [
    "#### Using 20 number of principal components"
   ]
  },
  {
   "cell_type": "code",
   "execution_count": 73,
   "metadata": {},
   "outputs": [],
   "source": [
    "np.random.seed(5)"
   ]
  },
  {
   "cell_type": "code",
   "execution_count": 74,
   "metadata": {},
   "outputs": [],
   "source": [
    "pca = decomposition.PCA(n_components=20)"
   ]
  },
  {
   "cell_type": "code",
   "execution_count": 75,
   "metadata": {},
   "outputs": [
    {
     "data": {
      "text/plain": [
       "PCA(copy=True, iterated_power='auto', n_components=20, random_state=None,\n",
       "  svd_solver='auto', tol=0.0, whiten=False)"
      ]
     },
     "execution_count": 75,
     "metadata": {},
     "output_type": "execute_result"
    }
   ],
   "source": [
    "pca.fit(X_train_sc_smote)"
   ]
  },
  {
   "cell_type": "code",
   "execution_count": 76,
   "metadata": {},
   "outputs": [],
   "source": [
    "# For training set\n",
    "X_train_pca = pca.transform(X_train_sc_smote)"
   ]
  },
  {
   "cell_type": "code",
   "execution_count": 77,
   "metadata": {},
   "outputs": [
    {
     "data": {
      "text/plain": [
       "array([[ 3.96360930e+00,  1.50633036e+00, -6.40901615e-01, ...,\n",
       "         3.18554585e-01,  2.72813056e-01, -1.20194515e+00],\n",
       "       [-3.85475955e-01, -2.74018625e-01, -1.90729578e+00, ...,\n",
       "         5.42171292e-01,  5.50985463e-01, -2.62042609e-01],\n",
       "       [-3.15492540e+00,  1.13852590e+00, -2.11412371e+00, ...,\n",
       "         6.25507805e-01,  1.15523945e-02,  3.10708160e-01],\n",
       "       ...,\n",
       "       [-5.18652006e-01, -1.80037984e-04, -1.91696308e+00, ...,\n",
       "         6.38909751e-01, -6.99876461e-01,  8.17613044e-01],\n",
       "       [-1.35757426e+00,  1.23322383e+00,  9.09582579e-01, ...,\n",
       "        -5.76040383e-01,  4.51375268e-01, -5.22513970e-01],\n",
       "       [ 2.77254305e+00,  3.06953842e+00,  6.02765034e-01, ...,\n",
       "         4.81002376e-02,  1.59826034e-01,  2.45112293e-01]])"
      ]
     },
     "execution_count": 77,
     "metadata": {},
     "output_type": "execute_result"
    }
   ],
   "source": [
    "X_train_pca"
   ]
  },
  {
   "cell_type": "code",
   "execution_count": 78,
   "metadata": {},
   "outputs": [
    {
     "data": {
      "text/plain": [
       "(1060, 20)"
      ]
     },
     "execution_count": 78,
     "metadata": {},
     "output_type": "execute_result"
    }
   ],
   "source": [
    "X_train_pca.shape"
   ]
  },
  {
   "cell_type": "code",
   "execution_count": 79,
   "metadata": {},
   "outputs": [
    {
     "data": {
      "text/plain": [
       "array([0.10123598, 0.05666011, 0.0482577 , 0.04148055, 0.03697361,\n",
       "       0.03557651, 0.03475719, 0.03393259, 0.03266321, 0.03179389,\n",
       "       0.03042973, 0.02920761, 0.0274625 , 0.02702267, 0.02675519,\n",
       "       0.0259636 , 0.02505035, 0.02477336, 0.02365712, 0.02345044])"
      ]
     },
     "execution_count": 79,
     "metadata": {},
     "output_type": "execute_result"
    }
   ],
   "source": [
    "# Variance exaplined by principal components\n",
    "pca.explained_variance_ratio_"
   ]
  },
  {
   "cell_type": "code",
   "execution_count": 80,
   "metadata": {},
   "outputs": [
    {
     "data": {
      "text/plain": [
       "array([10.12, 15.79, 20.62, 24.77, 28.47, 32.03, 35.51, 38.9 , 42.17,\n",
       "       45.35, 48.39, 51.31, 54.06, 56.76, 59.44, 62.04, 64.55, 67.03,\n",
       "       69.4 , 71.75])"
      ]
     },
     "execution_count": 80,
     "metadata": {},
     "output_type": "execute_result"
    }
   ],
   "source": [
    "# Culmulative Variance Explained\n",
    "var_Data = pca.explained_variance_ratio_\n",
    "cum_var_Data = np.cumsum(np.round(pca.explained_variance_ratio_, decimals=4)*100)\n",
    "cum_var_Data"
   ]
  },
  {
   "cell_type": "code",
   "execution_count": 81,
   "metadata": {},
   "outputs": [
    {
     "data": {
      "image/png": "[encoded data removed]",
      "text/plain": [
       "<Figure size 432x288 with 1 Axes>"
      ]
     },
     "metadata": {
      "needs_background": "light"
     },
     "output_type": "display_data"
    }
   ],
   "source": [
    "plt.plot(cum_var_Data)\n",
    "plt.ylabel('Cumulative Variance (%)')\n",
    "plt.xlabel('Number of Principal Components')\n",
    "plt.show()"
   ]
  },
  {
   "cell_type": "code",
   "execution_count": 82,
   "metadata": {},
   "outputs": [
    {
     "name": "stdout",
     "output_type": "stream",
     "text": [
      "The dimension of the dataset before applying PCA was: (1060, 39)\n"
     ]
    }
   ],
   "source": [
    "print(\"The dimension of the dataset before applying PCA was:\", X_train_sc_smote.shape)"
   ]
  },
  {
   "cell_type": "code",
   "execution_count": 83,
   "metadata": {},
   "outputs": [
    {
     "name": "stdout",
     "output_type": "stream",
     "text": [
      "The dimension of the dataset after applying PCA is: (1060, 20)\n"
     ]
    }
   ],
   "source": [
    "print(\"The dimension of the dataset after applying PCA is:\", X_train_pca.shape)"
   ]
  },
  {
   "cell_type": "code",
   "execution_count": 84,
   "metadata": {},
   "outputs": [],
   "source": [
    "# For test set\n",
    "X_test_pca = pca.transform(X_test_sc)"
   ]
  },
  {
   "cell_type": "code",
   "execution_count": 85,
   "metadata": {},
   "outputs": [
    {
     "data": {
      "text/plain": [
       "(300, 20)"
      ]
     },
     "execution_count": 85,
     "metadata": {},
     "output_type": "execute_result"
    }
   ],
   "source": [
    "X_test_pca.shape"
   ]
  },
  {
   "cell_type": "markdown",
   "metadata": {},
   "source": [
    "20 principal components captured 71.75% of the variance of the features in the training data and was selected to use in training the classification models to predict 'fraud_reported' class attribute."
   ]
  }
 ],
 "metadata": {
  "kernelspec": {
   "display_name": "Python 3 (ipykernel)",
   "language": "python",
   "name": "python3"
  },
  "language_info": {
   "codemirror_mode": {
    "name": "ipython",
    "version": 3
   },
   "file_extension": ".py",
   "mimetype": "text/x-python",
   "name": "python",
   "nbconvert_exporter": "python",
   "pygments_lexer": "ipython3",
   "version": "3.9.7"
  }
 },
 "nbformat": 4,
 "nbformat_minor": 2
}
